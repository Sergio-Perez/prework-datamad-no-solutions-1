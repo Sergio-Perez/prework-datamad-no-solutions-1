{
 "cells": [
  {
   "cell_type": "markdown",
   "metadata": {},
   "source": [
    "<img src=\"https://bit.ly/2VnXWr2\" width=\"100\" align=\"left\">"
   ]
  },
  {
   "cell_type": "markdown",
   "metadata": {},
   "source": [
    "# Rock, Paper & Scissors\n",
    "\n",
    "Let's play the famous game against our computer. You can check the rules [here](https://en.wikipedia.org/wiki/Rock%E2%80%93paper%E2%80%93scissors). \n",
    "\n",
    "## Task\n",
    "Create a program that imitates the playability of the well known game of rock, paper, scissors. Follow the guidelines provided.\n",
    "\n",
    "## Tools\n",
    "1. Loop: **for/while**\n",
    "2. Functions: **input(), print()...**\n",
    "3. Conditional statements: **if, elif, else**\n",
    "4. Definition of functions. Modular programming\n",
    "5. Import modules\n",
    "\n",
    "**To solve this challenge, the use of functions is recommended.**\n",
    "\n",
    "#### 1. Import the choice function of the random module."
   ]
  },
  {
   "cell_type": "code",
   "execution_count": 1,
   "metadata": {},
   "outputs": [],
   "source": [
    "import random"
   ]
  },
  {
   "cell_type": "markdown",
   "metadata": {},
   "source": [
    "#### 2. Create a list that includes the 3 possible gesture options of the game: 'rock', 'paper' or 'scissors'. Store the list in a variable called `gestures`."
   ]
  },
  {
   "cell_type": "code",
   "execution_count": 2,
   "metadata": {},
   "outputs": [],
   "source": [
    "gestures=[ 'rock', 'paper' ,'scissors']"
   ]
  },
  {
   "cell_type": "markdown",
   "metadata": {},
   "source": [
    "#### 3. Create a variable called `n_rounds` to store the maximum number of rounds to play in a game. \n",
    "Remember that the number of rounds must be odd: 1, 3, 5, ..."
   ]
  },
  {
   "cell_type": "code",
   "execution_count": 3,
   "metadata": {},
   "outputs": [],
   "source": [
    "n_rounds = 5"
   ]
  },
  {
   "cell_type": "markdown",
   "metadata": {},
   "source": [
    "#### 4. Create a variable called `rounds_to_win` to store the number of rounds that a player must win to win the game.\n",
    "**Hint**: the value stored in `rounds_to_win` depends on the value of `n_rounds`. "
   ]
  },
  {
   "cell_type": "code",
   "execution_count": 4,
   "metadata": {},
   "outputs": [],
   "source": [
    "rounds_to_win = 3 "
   ]
  },
  {
   "cell_type": "markdown",
   "metadata": {},
   "source": [
    "#### 5. Create two variables to store the number of rounds that the computer and the player have won. Call these variables `cpu_score` and `player_score`."
   ]
  },
  {
   "cell_type": "code",
   "execution_count": 5,
   "metadata": {},
   "outputs": [],
   "source": [
    "cpu_score = 0\n",
    "player_score = 0"
   ]
  },
  {
   "cell_type": "markdown",
   "metadata": {},
   "source": [
    "#### 6. Define a function that randomly returns one of the 3 gesture options.\n",
    "You will use this function to simulate the gesture choice of the computer. "
   ]
  },
  {
   "cell_type": "code",
   "execution_count": 6,
   "metadata": {},
   "outputs": [],
   "source": [
    "cpu = random.choice(gestures)"
   ]
  },
  {
   "cell_type": "markdown",
   "metadata": {},
   "source": [
    "#### 7. Define a function that asks the player which is the gesture he or she wants to show: 'rock', 'paper' or 'scissors'.\n",
    "The player should only be allowed to choose one of the 3 gesture options. If the player's choice is not rock, paper or scissors, keep asking until it is."
   ]
  },
  {
   "cell_type": "code",
   "execution_count": 7,
   "metadata": {},
   "outputs": [],
   "source": [
    "def player_elec():\n",
    "  pregunta = True\n",
    "  while pregunta:\n",
    "    player = input(\"which is the gesture do you want to show?: 'rock', 'paper' or 'scissors: \\n\")\n",
    "    if player in gestures:\n",
    "      pregunta= False\n",
    "  return player\n"
   ]
  },
  {
   "cell_type": "markdown",
   "metadata": {},
   "source": [
    "#### 8. Define a function that checks who won a round. \n",
    "The function should return 0 if there is a tie, 1 if the computer wins and 2 if the player wins."
   ]
  },
  {
   "cell_type": "code",
   "execution_count": 8,
   "metadata": {},
   "outputs": [],
   "source": [
    "def ronda(player):\n",
    "  cpu= random.choice(gestures)\n",
    "  resultado = 0\n",
    "  print(\"Elijio cpu: \" ,cpu)\n",
    "  if player ==\"rock\" and cpu == \"scissors\":\n",
    "    resultado = 2\n",
    "  \n",
    "  elif player == \"scissors\" and cpu == \"paper\":\n",
    "    resultado = 2\n",
    "  \n",
    "  elif player ==\"scissors\" and cpu == \"rock\": \n",
    "    resultado = 1\n",
    "\n",
    "  elif player == \"paper\" and cpu == \"rock\":     \n",
    "    resultado = 2\n",
    "  \n",
    "  elif player == \"paper\" and cpu == \"scissors\":\n",
    "    resultado = 1\n",
    "\n",
    "  elif player ==\"rock\" and cpu == \"paper\":\n",
    "    resultado = 1\n",
    "\n",
    "  elif player == cpu:\n",
    "    resultado = 0\n",
    "  return resultado"
   ]
  },
  {
   "cell_type": "markdown",
   "metadata": {},
   "source": [
    "#### 9. Define a function that prints the choice of the computer, the choice of the player and a message that announces who won the current round. \n",
    "You should also use this function to update the variables that count the number of rounds that the computer and the player have won. The score of the winner increases by one point. If there is a tie, the score does not increase."
   ]
  },
  {
   "cell_type": "code",
   "execution_count": 9,
   "metadata": {},
   "outputs": [
    {
     "name": "stdout",
     "output_type": "stream",
     "text": [
      "which is the gesture do you want to show?: 'rock', 'paper' or 'scissors: \n",
      "rock\n",
      "Elijio player:  rock\n",
      "Elijio cpu:  paper\n",
      "Gano cpu\n"
     ]
    }
   ],
   "source": [
    "def main():\n",
    "  rounds=0\n",
    "  cpu_score = 0\n",
    "  player_score = 0\n",
    "  player=player_elec()\n",
    "  print(\"Elijio player: \",player)\n",
    "  puntuaciones = ronda(player)\n",
    "  if puntuaciones == 2:\n",
    "    player_score +=1\n",
    "    rounds+=1\n",
    "    print(\"Gano jugador\")\n",
    "  elif puntuaciones == 1:\n",
    "    cpu_score +=1\n",
    "    rounds+=1\n",
    "    print(\"Gano cpu\")\n",
    "  else:\n",
    "    print(\"Empate\")\n",
    "main()"
   ]
  },
  {
   "cell_type": "markdown",
   "metadata": {},
   "source": [
    "#### 10. Now it's time to code the execution of the game using the functions and variables you defined above. \n",
    "\n",
    "First, create a loop structure that repeats while no player reaches the minimum score necessary to win and the number of rounds is less than the maximum number of rounds to play in a game.  \n",
    "\n",
    "Inside the loop, use the functions and variables above to create the execution of a round: ask for the player's choice, generate the random choice of the computer, show the round results, update the scores, etc. "
   ]
  },
  {
   "cell_type": "code",
   "execution_count": 10,
   "metadata": {},
   "outputs": [
    {
     "name": "stdout",
     "output_type": "stream",
     "text": [
      "which is the gesture do you want to show?: 'rock', 'paper' or 'scissors: \n",
      "rock\n",
      "Elijio player:  rock\n",
      "Elijio cpu:  paper\n",
      "Gano cpu\n",
      "Player:  0 Cpu:  1\n",
      "which is the gesture do you want to show?: 'rock', 'paper' or 'scissors: \n",
      "rock\n",
      "Elijio player:  rock\n",
      "Elijio cpu:  paper\n",
      "Gano cpu\n",
      "Player:  0 Cpu:  2\n",
      "which is the gesture do you want to show?: 'rock', 'paper' or 'scissors: \n",
      "rock\n",
      "Elijio player:  rock\n",
      "Elijio cpu:  paper\n",
      "Gano cpu\n",
      "Player:  0 Cpu:  3\n"
     ]
    }
   ],
   "source": [
    "import random\n",
    "gestures = [ 'rock', 'paper' ,'scissors']\n",
    "n_rounds = 5\n",
    "rounds_to_win = 3\n",
    "\n",
    "\n",
    "def player_elec():\n",
    "  pregunta = True\n",
    "  while pregunta:\n",
    "    player = input(\"which is the gesture do you want to show?: 'rock', 'paper' or 'scissors: \\n\")\n",
    "    if player in gestures:\n",
    "      pregunta= False\n",
    "  return player\n",
    "\n",
    "\n",
    "def ronda(player):\n",
    "  cpu= random.choice(gestures)\n",
    "  resultado = 0\n",
    "  print(\"Elijio cpu: \" ,cpu)\n",
    "  if player ==\"rock\" and cpu == \"scissors\":\n",
    "    resultado = 2\n",
    "  \n",
    "  elif player == \"scissors\" and cpu == \"paper\":\n",
    "    resultado = 2\n",
    "  \n",
    "  elif player ==\"scissors\" and cpu == \"rock\": \n",
    "    resultado = 1\n",
    "\n",
    "  elif player == \"paper\" and cpu == \"rock\":     \n",
    "    resultado = 2\n",
    "  \n",
    "  elif player == \"paper\" and cpu == \"scissors\":\n",
    "    resultado = 1\n",
    "\n",
    "  elif player ==\"rock\" and cpu == \"paper\":\n",
    "    resultado = 1\n",
    "\n",
    "  elif player == cpu:\n",
    "    resultado = 0\n",
    "  return resultado\n",
    "def main():\n",
    "  rounds=0\n",
    "  cpu_score = 0\n",
    "  player_score = 0\n",
    "  while player_score < rounds_to_win and cpu_score < rounds_to_win and n_rounds > rounds:\n",
    "\n",
    "    player=player_elec()\n",
    "  \n",
    "    print(\"Elijio player: \",player)\n",
    "    puntuaciones = ronda(player)\n",
    "    if puntuaciones == 2:\n",
    "      player_score +=1\n",
    "      rounds+=1\n",
    "      print(\"Gano jugador\")\n",
    "    elif puntuaciones == 1:\n",
    "      cpu_score +=1\n",
    "      rounds+=1\n",
    "      print(\"Gano cpu\")\n",
    "    else:\n",
    "      print(\"Empate\")\n",
    "      \n",
    "    print(\"Player: \",player_score,\"Cpu: \" ,cpu_score)\n",
    "  \n",
    "main()"
   ]
  },
  {
   "cell_type": "markdown",
   "metadata": {},
   "source": [
    "#### 11. Print the winner of the game based on who won more rounds.\n",
    "Remember that the game might be tied. "
   ]
  },
  {
   "cell_type": "code",
   "execution_count": 11,
   "metadata": {},
   "outputs": [
    {
     "name": "stdout",
     "output_type": "stream",
     "text": [
      "which is the gesture do you want to show?: 'rock', 'paper' or 'scissors: \n",
      "rock\n",
      "Elijio player:  rock\n",
      "Elijio cpu:  rock\n",
      "Empate\n",
      "Player:  0 Cpu:  0\n",
      "which is the gesture do you want to show?: 'rock', 'paper' or 'scissors: \n",
      "rock\n",
      "Elijio player:  rock\n",
      "Elijio cpu:  rock\n",
      "Empate\n",
      "Player:  0 Cpu:  0\n",
      "which is the gesture do you want to show?: 'rock', 'paper' or 'scissors: \n",
      "rock\n",
      "Elijio player:  rock\n",
      "Elijio cpu:  scissors\n",
      "Gano jugador\n",
      "Player:  1 Cpu:  0\n",
      "which is the gesture do you want to show?: 'rock', 'paper' or 'scissors: \n",
      "rock\n",
      "Elijio player:  rock\n",
      "Elijio cpu:  rock\n",
      "Empate\n",
      "Player:  1 Cpu:  0\n",
      "which is the gesture do you want to show?: 'rock', 'paper' or 'scissors: \n",
      "rock\n",
      "Elijio player:  rock\n",
      "Elijio cpu:  paper\n",
      "Gano cpu\n",
      "Player:  1 Cpu:  1\n",
      "Empatan\n"
     ]
    }
   ],
   "source": [
    "def main():\n",
    "  rounds=0\n",
    "  cpu_score = 0\n",
    "  player_score = 0\n",
    "  while player_score < rounds_to_win and cpu_score < rounds_to_win and n_rounds > rounds:\n",
    "\n",
    "    player=player_elec()\n",
    "  \n",
    "    print(\"Elijio player: \",player)\n",
    "    puntuaciones = ronda(player)\n",
    "    if puntuaciones == 2:\n",
    "      player_score +=1\n",
    "      print(\"Gano jugador\")\n",
    "    elif puntuaciones == 1:\n",
    "      cpu_score +=1\n",
    "      print(\"Gano cpu\")\n",
    "    else:\n",
    "      print(\"Empate\")\n",
    "    rounds+=1\n",
    "    print(\"Player: \",player_score,\"Cpu: \" ,cpu_score)\n",
    "  \n",
    "  if player_score > cpu_score:\n",
    "    print(\"Gana Player\") \n",
    "  elif player_score < cpu_score:\n",
    "    print(\"Gana Cpu\")\n",
    "  else:\n",
    "    print(\"Empatan\")     \n",
    "\n",
    "main()"
   ]
  },
  {
   "cell_type": "markdown",
   "metadata": {},
   "source": [
    "# Bonus: Rock, Paper, Scissors, Lizard & Spock\n",
    "![](images/rpsls.jpg)\n",
    "\n",
    "In this challenge, you need to improve the previous game by adding two new options. To know more about the rules of the improved version of rock, paper, scissors, check this [link](http://www.samkass.com/theories/RPSSL.html). \n",
    "\n",
    "In addition, you will also need to improve how the game interacts with the player: the number of rounds to play, which must be an odd number, will be requested to the user until a valid number is entered. Define a new function to make that request.\n",
    "\n",
    "**Hint**: Try to reuse the code that you already coded in the previous challenge. If your code is efficient, this bonus will only consist of simple modifications to the original game."
   ]
  },
  {
   "cell_type": "code",
   "execution_count": 12,
   "metadata": {},
   "outputs": [
    {
     "name": "stdout",
     "output_type": "stream",
     "text": [
      "Elija un numero impar para el número de rondas: 5\n",
      "which is the gesture do you want to show?: 'rock', 'paper', 'scissors, 'lizard' or 'spock': \n",
      "spock\n",
      "Elijio player:  spock\n",
      "Elijio cpu:  lizard\n",
      "Gano cpu\n",
      "Player:  0 Cpu:  1\n",
      "which is the gesture do you want to show?: 'rock', 'paper', 'scissors, 'lizard' or 'spock': \n",
      "spock\n",
      "Elijio player:  spock\n",
      "Elijio cpu:  rock\n",
      "Gano jugador\n",
      "Player:  1 Cpu:  1\n",
      "which is the gesture do you want to show?: 'rock', 'paper', 'scissors, 'lizard' or 'spock': \n",
      "spock\n",
      "Elijio player:  spock\n",
      "Elijio cpu:  scissors\n",
      "Gano jugador\n",
      "Player:  2 Cpu:  1\n",
      "which is the gesture do you want to show?: 'rock', 'paper', 'scissors, 'lizard' or 'spock': \n",
      "spock\n",
      "Elijio player:  spock\n",
      "Elijio cpu:  spock\n",
      "Empate\n",
      "Player:  2 Cpu:  1\n",
      "which is the gesture do you want to show?: 'rock', 'paper', 'scissors, 'lizard' or 'spock': \n",
      "spock\n",
      "Elijio player:  spock\n",
      "Elijio cpu:  scissors\n",
      "Gano jugador\n",
      "Player:  3 Cpu:  1\n",
      "Gana Player\n"
     ]
    }
   ],
   "source": [
    "import random\n",
    "gestures = [ 'rock', 'paper' ,'scissors','lizard','spock']\n",
    "\n",
    "def player_elec():\n",
    "  pregunta = True\n",
    "  while pregunta:\n",
    "    player = input(\"which is the gesture do you want to show?: 'rock', 'paper', 'scissors, 'lizard' or 'spock': \\n\")\n",
    "    if player in gestures:\n",
    "      pregunta= False\n",
    "  return player\n",
    "\n",
    "def ronda(player):\n",
    "  cpu= random.choice(gestures)\n",
    "  resultado = 0\n",
    "  print(\"Elijio cpu: \" ,cpu)\n",
    " \n",
    "  if player == \"paper\" and (cpu == \"rock\" or cpu == \"spock\"):     \n",
    "    resultado = 2\n",
    "  elif player == \"scissors\" and (cpu == \"paper\" or cpu == \"lizard\"):\n",
    "    resultado = 2\n",
    "  elif player == \"rock\" and (cpu == \"scissors\" or cpu == \"lizard\"):    resultado = 2\n",
    "  elif player == \"lizard\" and (cpu == \"paper\" or cpu == \"spock\"):\n",
    "    resultado = 2\n",
    "  elif player == \"spock\" and (cpu == \"scissors\" or cpu == \"rock\"):\n",
    "    resultado = 2\n",
    "  elif cpu  == \"paper\" and (player == \"rock\" or player == \"spock\"):     \n",
    "    resultado = 1\n",
    "  elif cpu  == \"scissors\" and (player== \"paper\" or player== \"lizard\"):\n",
    "    resultado = 1\n",
    "  elif cpu  == \"rock\" and (player== \"scissors\" or player == \"lizard\"):    resultado = 1\n",
    "  elif cpu  == \"lizard\" and (player == \"paper\" or player == \"spock\"):\n",
    "    resultado = 1\n",
    "  elif cpu  == \"spock\" and (player == \"scissors\" or player == \"rock\"):\n",
    "    resultado = 1\n",
    "\n",
    "  elif player == cpu:\n",
    "    resultado = 0\n",
    "  return resultado\n",
    "\n",
    "def main():\n",
    "  n_rounds = 0\n",
    "  while n_rounds %2 == 0 :\n",
    "     n_rounds = int(input(\"Elija un numero impar para el número de rondas: \"))\n",
    "  rounds_to_win = (n_rounds+1)/2\n",
    "  rounds=0\n",
    "  cpu_score = 0\n",
    "  player_score = 0\n",
    "  while player_score < rounds_to_win and cpu_score < rounds_to_win and n_rounds > rounds:\n",
    "    player=player_elec() \n",
    "    print(\"Elijio player: \",player)\n",
    "    puntuaciones = ronda(player)\n",
    "    if puntuaciones == 2:\n",
    "      player_score +=1\n",
    "      print(\"Gano jugador\")\n",
    "    elif puntuaciones == 1:\n",
    "      cpu_score +=1\n",
    "      print(\"Gano cpu\")\n",
    "    else:\n",
    "      print(\"Empate\")\n",
    "    rounds+=1\n",
    "    print(\"Player: \",player_score,\"Cpu: \" ,cpu_score)\n",
    "  \n",
    "  if player_score > cpu_score:\n",
    "    print(\"Gana Player\") \n",
    "  elif player_score < cpu_score:\n",
    "    print(\"Gana Cpu\")\n",
    "  else:\n",
    "    print(\"Empatan\")     \n",
    "\n",
    "main()"
   ]
  },
  {
   "cell_type": "code",
   "execution_count": null,
   "metadata": {},
   "outputs": [],
   "source": []
  }
 ],
 "metadata": {
  "kernelspec": {
   "display_name": "Python 3",
   "language": "python",
   "name": "python3"
  },
  "language_info": {
   "codemirror_mode": {
    "name": "ipython",
    "version": 3
   },
   "file_extension": ".py",
   "mimetype": "text/x-python",
   "name": "python",
   "nbconvert_exporter": "python",
   "pygments_lexer": "ipython3",
   "version": "3.7.3"
  }
 },
 "nbformat": 4,
 "nbformat_minor": 2
}
